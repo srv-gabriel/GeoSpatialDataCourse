{
 "cells": [
  {
   "cell_type": "markdown",
   "id": "cooked-start",
   "metadata": {},
   "source": [
    "<h1>Data Visualization</h1>\n",
    "\n",
    "<p style=\"font-size: 16px\">In this notebook I'm assuming that you have already followed the previous one and signed up to Google Earth Engine and Authenticated you account. So the goal on this notebook is to dive deeper into:</p>\n",
    "<ul>\n",
    "    <li>Google Earth Engine structure</li>\n",
    "    <li>Google's Data Catalog</li>\n",
    "    <li>Image visualization with folium and geehydro</li>\n",
    "    <li>Filter data</li>    \n",
    "</ul>"
   ]
  },
  {
   "cell_type": "code",
   "execution_count": 4,
   "id": "middle-brush",
   "metadata": {},
   "outputs": [],
   "source": [
    "import ee\n",
    "import folium\n",
    "import geehydro\n",
    "from IPython.display import Image"
   ]
  },
  {
   "cell_type": "code",
   "execution_count": 5,
   "id": "exciting-financing",
   "metadata": {},
   "outputs": [],
   "source": [
    "ee.Initialize()"
   ]
  },
  {
   "cell_type": "markdown",
   "id": "improving-delaware",
   "metadata": {},
   "source": [
    "<p style=\"font-size: 16px\">First we have to initialize our Folium map.Here we are setting two basic parameters: location, that is where the center of the map will be located when the map is initialized; zoom_start, that is the zoom level that the map will have when initialize. If you press shift+tab inside the constructor of the function you will see many other parameters that have very intuitive names that you can play with.\n",
    "After that, we use the setOptions function, that is from geehydro library. geehydro is a package built that implements several methods for creating an interaction between folium and Earth Engine, with it we can add layers to the map and set some controls to it. With setOptions function we are setting the base layer of our map, and we have the following options:</p>\n",
    "<ul>\n",
    "    <li>\"ROADMAP\"\n",
    "        <ul>\n",
    "            <li>It's a Google Maps-like map, with road information (obviously)</li>\n",
    "            <li>It also has information about countries and states' boundaries</li>\n",
    "        </ul>\n",
    "    </li>\n",
    "    <li>\"SATELLITE\"\n",
    "        <ul>\n",
    "            <li>It has satellite image, with no information about countries, boundaries, etc. It's only images</li>\n",
    "            <li>Images can vary on quality from place to place</li>\n",
    "        </ul>\n",
    "    </li>\n",
    "    <li>\"HYBRID\"\n",
    "        <ul>\n",
    "            <li>It's a mix of SATELLITE and ROADMAP</li>\n",
    "            <li>You have satellite images with boundaries, roads, states, etc.</li>\n",
    "        </ul>\n",
    "    </li>\n",
    "    <li>\"TERRAIN\"\n",
    "        <ul>\n",
    "            <li>Similar to ROADMAP with soil details</li>\n",
    "            <li>You can visualize mountains and types of soil</li>\n",
    "        </ul>\n",
    "    </li> \n",
    "    <li>\"NAIP\"\n",
    "        <ul>\n",
    "            <li>Looks like it's in development yet</li>\n",
    "            <li>NAIP stands for National Agriculture Imagery Program from US</li>\n",
    "        </ul>\n",
    "    </li>\n",
    "    <li>\"ESRI\"\n",
    "        <ul>\n",
    "            <li>Diffenrent satellite visualization</li>\n",
    "            <li>Higher resolution images than \"SATELLITE\"</li>\n",
    "            <li>In some areas, if you try to zoom in, it might not have the data available</li>\n",
    "        </ul>\n",
    "    </li>\n",
    "</ul>\n",
    "\n",
    "<p style=\"font-size: 16px\">We can also personalize our map in other ways that we will see further in this series of notebooks. By now, this is enough.</p>"
   ]
  },
  {
   "cell_type": "code",
   "execution_count": 28,
   "id": "embedded-vancouver",
   "metadata": {},
   "outputs": [],
   "source": [
    "_map = folium.Map(location=[-14.1862, 27.5625], zoom_start=4)\n",
    "_map.setOptions('ESRI')"
   ]
  },
  {
   "cell_type": "markdown",
   "id": "structural-disease",
   "metadata": {},
   "source": [
    "<h2>Data Catalog</h2>\n",
    "\n",
    "<p>The Earth Engine API has its own data catalog and Google is doing a great job on providing it in an easy to use and free way. You can find all the data available for Earth Engine in this <a href=\"https://developers.google.com/earth-engine/datasets\">link</a>. In this series we will be working mainly with raw data, e.g. bands of satellite imagery, as our goal is to apply some Machine Learning and Deep Learning techniques using Remote Sensing data.\n",
    "\n",
    "In the EE's data catalog we can find imagery from Landsat series (1, 4, 5, 7 and 8), sentinel series (1, 2, 3 and 5P), MODIS (too many to put here), Planet labs SkySat and NAIP. Those are very precious data that we will be exploring in details set-by-set. It's very easy to acquire the data using EE, you just need to access the data catalog, search for the dataset you want to use, and in the page of this dataset there will be an Id similar to this: LANDSAT/LC08/C01/T1_TOA. Then, you just need to paste it into the ee.ImageCollection() function, that we will be seing in the folling cells.\n",
    "    \n",
    "Now we will be taking a closer look at Landsat imagery, more specific at Landsat-8 imagery.\n",
    "</p>\n",
    "\n"
   ]
  },
  {
   "cell_type": "code",
   "execution_count": 69,
   "id": "endless-frontier",
   "metadata": {},
   "outputs": [],
   "source": [
    "countries = ee.FeatureCollection('USDOS/LSIB_SIMPLE/2017')"
   ]
  },
  {
   "cell_type": "code",
   "execution_count": 70,
   "id": "designing-sociology",
   "metadata": {},
   "outputs": [],
   "source": [
    "zambia = countries.filter(ee.Filter.eq('country_na', 'Zambia'))"
   ]
  },
  {
   "cell_type": "code",
   "execution_count": 71,
   "id": "processed-madison",
   "metadata": {},
   "outputs": [],
   "source": [
    "dataset = ee.ImageCollection('LANDSAT/LC08/C01/T1_TOA').filterDate('2017-01-01', '2017-12-31').filterBounds(zambia)"
   ]
  },
  {
   "cell_type": "code",
   "execution_count": 72,
   "id": "committed-fairy",
   "metadata": {},
   "outputs": [],
   "source": [
    "true_color = dataset.select(['B4', 'B3', 'B2'])\n",
    "true_color_vis = {\n",
    "    'min' : 0.0,\n",
    "    'max' : 0.4\n",
    "}"
   ]
  },
  {
   "cell_type": "code",
   "execution_count": 73,
   "id": "extraordinary-engine",
   "metadata": {},
   "outputs": [],
   "source": [
    "_map.addLayer(true_color.median(), true_color_vis, 'True Color')\n",
    "_map.addLayer(ee.Image().paint(zambia,0,2), {}, 'Zambia')"
   ]
  },
  {
   "cell_type": "code",
   "execution_count": 74,
   "id": "breathing-might",
   "metadata": {},
   "outputs": [],
   "source": [
    "_map.setControlVisibility(layerControl=True, fullscreenControl=True, latLngPopup=True)"
   ]
  },
  {
   "cell_type": "code",
   "execution_count": 29,
   "id": "senior-crisis",
   "metadata": {},
   "outputs": [
    {
     "data": {
      "text/html": [
       "<div style=\"width:100%;\"><div style=\"position:relative;width:100%;height:0;padding-bottom:60%;\"><span style=\"color:#565656\">Make this Notebook Trusted to load map: File -> Trust Notebook</span><iframe src=\"about:blank\" style=\"position:absolute;width:100%;height:100%;left:0;top:0;border:none !important;\" data-html=%3C%21DOCTYPE%20html%3E%0A%3Chead%3E%20%20%20%20%0A%20%20%20%20%3Cmeta%20http-equiv%3D%22content-type%22%20content%3D%22text/html%3B%20charset%3DUTF-8%22%20/%3E%0A%20%20%20%20%0A%20%20%20%20%20%20%20%20%3Cscript%3E%0A%20%20%20%20%20%20%20%20%20%20%20%20L_NO_TOUCH%20%3D%20false%3B%0A%20%20%20%20%20%20%20%20%20%20%20%20L_DISABLE_3D%20%3D%20false%3B%0A%20%20%20%20%20%20%20%20%3C/script%3E%0A%20%20%20%20%0A%20%20%20%20%3Cstyle%3Ehtml%2C%20body%20%7Bwidth%3A%20100%25%3Bheight%3A%20100%25%3Bmargin%3A%200%3Bpadding%3A%200%3B%7D%3C/style%3E%0A%20%20%20%20%3Cstyle%3E%23map%20%7Bposition%3Aabsolute%3Btop%3A0%3Bbottom%3A0%3Bright%3A0%3Bleft%3A0%3B%7D%3C/style%3E%0A%20%20%20%20%3Cscript%20src%3D%22https%3A//cdn.jsdelivr.net/npm/leaflet%401.6.0/dist/leaflet.js%22%3E%3C/script%3E%0A%20%20%20%20%3Cscript%20src%3D%22https%3A//code.jquery.com/jquery-1.12.4.min.js%22%3E%3C/script%3E%0A%20%20%20%20%3Cscript%20src%3D%22https%3A//maxcdn.bootstrapcdn.com/bootstrap/3.2.0/js/bootstrap.min.js%22%3E%3C/script%3E%0A%20%20%20%20%3Cscript%20src%3D%22https%3A//cdnjs.cloudflare.com/ajax/libs/Leaflet.awesome-markers/2.0.2/leaflet.awesome-markers.js%22%3E%3C/script%3E%0A%20%20%20%20%3Clink%20rel%3D%22stylesheet%22%20href%3D%22https%3A//cdn.jsdelivr.net/npm/leaflet%401.6.0/dist/leaflet.css%22/%3E%0A%20%20%20%20%3Clink%20rel%3D%22stylesheet%22%20href%3D%22https%3A//maxcdn.bootstrapcdn.com/bootstrap/3.2.0/css/bootstrap.min.css%22/%3E%0A%20%20%20%20%3Clink%20rel%3D%22stylesheet%22%20href%3D%22https%3A//maxcdn.bootstrapcdn.com/bootstrap/3.2.0/css/bootstrap-theme.min.css%22/%3E%0A%20%20%20%20%3Clink%20rel%3D%22stylesheet%22%20href%3D%22https%3A//maxcdn.bootstrapcdn.com/font-awesome/4.6.3/css/font-awesome.min.css%22/%3E%0A%20%20%20%20%3Clink%20rel%3D%22stylesheet%22%20href%3D%22https%3A//cdnjs.cloudflare.com/ajax/libs/Leaflet.awesome-markers/2.0.2/leaflet.awesome-markers.css%22/%3E%0A%20%20%20%20%3Clink%20rel%3D%22stylesheet%22%20href%3D%22https%3A//cdn.jsdelivr.net/gh/python-visualization/folium/folium/templates/leaflet.awesome.rotate.min.css%22/%3E%0A%20%20%20%20%0A%20%20%20%20%20%20%20%20%20%20%20%20%3Cmeta%20name%3D%22viewport%22%20content%3D%22width%3Ddevice-width%2C%0A%20%20%20%20%20%20%20%20%20%20%20%20%20%20%20%20initial-scale%3D1.0%2C%20maximum-scale%3D1.0%2C%20user-scalable%3Dno%22%20/%3E%0A%20%20%20%20%20%20%20%20%20%20%20%20%3Cstyle%3E%0A%20%20%20%20%20%20%20%20%20%20%20%20%20%20%20%20%23map_dae09fd0961d4cd2b6795f95a76e298b%20%7B%0A%20%20%20%20%20%20%20%20%20%20%20%20%20%20%20%20%20%20%20%20position%3A%20relative%3B%0A%20%20%20%20%20%20%20%20%20%20%20%20%20%20%20%20%20%20%20%20width%3A%20100.0%25%3B%0A%20%20%20%20%20%20%20%20%20%20%20%20%20%20%20%20%20%20%20%20height%3A%20100.0%25%3B%0A%20%20%20%20%20%20%20%20%20%20%20%20%20%20%20%20%20%20%20%20left%3A%200.0%25%3B%0A%20%20%20%20%20%20%20%20%20%20%20%20%20%20%20%20%20%20%20%20top%3A%200.0%25%3B%0A%20%20%20%20%20%20%20%20%20%20%20%20%20%20%20%20%7D%0A%20%20%20%20%20%20%20%20%20%20%20%20%3C/style%3E%0A%20%20%20%20%20%20%20%20%0A%3C/head%3E%0A%3Cbody%3E%20%20%20%20%0A%20%20%20%20%0A%20%20%20%20%20%20%20%20%20%20%20%20%3Cdiv%20class%3D%22folium-map%22%20id%3D%22map_dae09fd0961d4cd2b6795f95a76e298b%22%20%3E%3C/div%3E%0A%20%20%20%20%20%20%20%20%0A%3C/body%3E%0A%3Cscript%3E%20%20%20%20%0A%20%20%20%20%0A%20%20%20%20%20%20%20%20%20%20%20%20var%20map_dae09fd0961d4cd2b6795f95a76e298b%20%3D%20L.map%28%0A%20%20%20%20%20%20%20%20%20%20%20%20%20%20%20%20%22map_dae09fd0961d4cd2b6795f95a76e298b%22%2C%0A%20%20%20%20%20%20%20%20%20%20%20%20%20%20%20%20%7B%0A%20%20%20%20%20%20%20%20%20%20%20%20%20%20%20%20%20%20%20%20center%3A%20%5B-14.1862%2C%2027.5625%5D%2C%0A%20%20%20%20%20%20%20%20%20%20%20%20%20%20%20%20%20%20%20%20crs%3A%20L.CRS.EPSG3857%2C%0A%20%20%20%20%20%20%20%20%20%20%20%20%20%20%20%20%20%20%20%20zoom%3A%204%2C%0A%20%20%20%20%20%20%20%20%20%20%20%20%20%20%20%20%20%20%20%20zoomControl%3A%20true%2C%0A%20%20%20%20%20%20%20%20%20%20%20%20%20%20%20%20%20%20%20%20preferCanvas%3A%20false%2C%0A%20%20%20%20%20%20%20%20%20%20%20%20%20%20%20%20%7D%0A%20%20%20%20%20%20%20%20%20%20%20%20%29%3B%0A%0A%20%20%20%20%20%20%20%20%20%20%20%20%0A%0A%20%20%20%20%20%20%20%20%0A%20%20%20%20%0A%20%20%20%20%20%20%20%20%20%20%20%20var%20tile_layer_05428bfc8d014e78a58aede338f56af6%20%3D%20L.tileLayer%28%0A%20%20%20%20%20%20%20%20%20%20%20%20%20%20%20%20%22https%3A//%7Bs%7D.tile.openstreetmap.org/%7Bz%7D/%7Bx%7D/%7By%7D.png%22%2C%0A%20%20%20%20%20%20%20%20%20%20%20%20%20%20%20%20%7B%22attribution%22%3A%20%22Data%20by%20%5Cu0026copy%3B%20%5Cu003ca%20href%3D%5C%22http%3A//openstreetmap.org%5C%22%5Cu003eOpenStreetMap%5Cu003c/a%5Cu003e%2C%20under%20%5Cu003ca%20href%3D%5C%22http%3A//www.openstreetmap.org/copyright%5C%22%5Cu003eODbL%5Cu003c/a%5Cu003e.%22%2C%20%22detectRetina%22%3A%20false%2C%20%22maxNativeZoom%22%3A%2018%2C%20%22maxZoom%22%3A%2018%2C%20%22minZoom%22%3A%200%2C%20%22noWrap%22%3A%20false%2C%20%22opacity%22%3A%201%2C%20%22subdomains%22%3A%20%22abc%22%2C%20%22tms%22%3A%20false%7D%0A%20%20%20%20%20%20%20%20%20%20%20%20%29.addTo%28map_dae09fd0961d4cd2b6795f95a76e298b%29%3B%0A%20%20%20%20%20%20%20%20%0A%20%20%20%20%0A%20%20%20%20%20%20%20%20%20%20%20%20var%20tile_layer_36f10757d90e4855960f0905fa0a2245%20%3D%20L.tileLayer%28%0A%20%20%20%20%20%20%20%20%20%20%20%20%20%20%20%20%22https%3A//server.arcgisonline.com/ArcGIS/rest/services/World_Imagery/MapServer/tile/%7Bz%7D/%7By%7D/%7Bx%7D%22%2C%0A%20%20%20%20%20%20%20%20%20%20%20%20%20%20%20%20%7B%22attribution%22%3A%20%22Esri%22%2C%20%22detectRetina%22%3A%20false%2C%20%22maxNativeZoom%22%3A%2018%2C%20%22maxZoom%22%3A%2018%2C%20%22minZoom%22%3A%200%2C%20%22noWrap%22%3A%20false%2C%20%22opacity%22%3A%201%2C%20%22subdomains%22%3A%20%22abc%22%2C%20%22tms%22%3A%20false%7D%0A%20%20%20%20%20%20%20%20%20%20%20%20%29.addTo%28map_dae09fd0961d4cd2b6795f95a76e298b%29%3B%0A%20%20%20%20%20%20%20%20%0A%3C/script%3E onload=\"this.contentDocument.open();this.contentDocument.write(    decodeURIComponent(this.getAttribute('data-html')));this.contentDocument.close();\" allowfullscreen webkitallowfullscreen mozallowfullscreen></iframe></div></div>"
      ],
      "text/plain": [
       "<folium.folium.Map at 0x7f3c57992550>"
      ]
     },
     "metadata": {},
     "output_type": "display_data"
    }
   ],
   "source": [
    "display(_map)"
   ]
  },
  {
   "cell_type": "code",
   "execution_count": null,
   "id": "corrected-shelter",
   "metadata": {},
   "outputs": [],
   "source": []
  }
 ],
 "metadata": {
  "kernelspec": {
   "display_name": "RSCourse",
   "language": "python",
   "name": "rscourse"
  },
  "language_info": {
   "codemirror_mode": {
    "name": "ipython",
    "version": 3
   },
   "file_extension": ".py",
   "mimetype": "text/x-python",
   "name": "python",
   "nbconvert_exporter": "python",
   "pygments_lexer": "ipython3",
   "version": "3.8.5"
  }
 },
 "nbformat": 4,
 "nbformat_minor": 5
}
