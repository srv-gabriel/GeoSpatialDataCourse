{
 "cells": [
  {
   "cell_type": "markdown",
   "id": "amateur-mystery",
   "metadata": {},
   "source": [
    "<h1>Data Visualization</h1>\n",
    "\n",
    "<p style=\"font-size: 16px\">In this notebook I'm assuming that you have already followed the previous one and signed up to Google Earth Engine and Authenticated your account. So the goal on this notebook is to dive deeper into:</p>\n",
    "<ul>\n",
    "    <li>Google Earth Engine structure</li>\n",
    "    <li>Google's Data Catalog</li>\n",
    "    <li>Remote Sensing data acquisition</li>\n",
    "    <li>Image visualization with folium and geehydro</li>\n",
    "    <li>Filter data</li>    \n",
    "</ul>"
   ]
  },
  {
   "cell_type": "code",
   "execution_count": 1,
   "id": "respiratory-commander",
   "metadata": {},
   "outputs": [],
   "source": [
    "import ee\n",
    "import folium\n",
    "import geehydro\n",
    "from IPython.display import Image"
   ]
  },
  {
   "cell_type": "code",
   "execution_count": 2,
   "id": "extended-mediterranean",
   "metadata": {},
   "outputs": [],
   "source": [
    "ee.Initialize()"
   ]
  },
  {
   "cell_type": "markdown",
   "id": "rough-prescription",
   "metadata": {},
   "source": [
    "<p style=\"font-size: 16px\">First we have to initialize our Folium map. Here we are setting two basic parameters: location, that is where the center of the map will be located when the map is initialized; zoom_start, that is the zoom level that the map will have when initialize. If you press shift+tab inside the constructor of the function you will see many other parameters that have very intuitive names that you can play with.\n",
    "After that, we use the setOptions function, that is from geehydro library. geehydro is a package built that implements several methods for creating an interaction between folium and Earth Engine, with it we can add layers to the map and set some controls to it. With setOptions function we are setting the base layer of our map, and we have the following options:</p>\n",
    "<ul>\n",
    "    <li>\"ROADMAP\"\n",
    "        <ul>\n",
    "            <li>It's a Google Maps-like map, with road information (obviously)</li>\n",
    "            <li>It also has information about countries and states' boundaries</li>\n",
    "        </ul>\n",
    "    </li>\n",
    "    <li>\"SATELLITE\"\n",
    "        <ul>\n",
    "            <li>It has satellite image, with no information about countries, boundaries, etc. It's only images</li>\n",
    "            <li>Images can vary on quality from place to place</li>\n",
    "        </ul>\n",
    "    </li>\n",
    "    <li>\"HYBRID\"\n",
    "        <ul>\n",
    "            <li>It's a mix of SATELLITE and ROADMAP</li>\n",
    "            <li>You have satellite images with boundaries, roads, states, etc.</li>\n",
    "        </ul>\n",
    "    </li>\n",
    "    <li>\"TERRAIN\"\n",
    "        <ul>\n",
    "            <li>Similar to ROADMAP with soil details</li>\n",
    "            <li>You can visualize mountains and types of soil</li>\n",
    "        </ul>\n",
    "    </li> \n",
    "    <li>\"NAIP\"\n",
    "        <ul>\n",
    "            <li>Looks like it's in development yet</li>\n",
    "            <li>NAIP stands for National Agriculture Imagery Program from US</li>\n",
    "        </ul>\n",
    "    </li>\n",
    "    <li>\"ESRI\"\n",
    "        <ul>\n",
    "            <li>Diffenrent satellite visualization</li>\n",
    "            <li>Higher resolution images than \"SATELLITE\"</li>\n",
    "            <li>In some areas, if you try to zoom in, it might not have the data available</li>\n",
    "        </ul>\n",
    "    </li>\n",
    "</ul>\n",
    "\n",
    "<p style=\"font-size: 16px\">We can also personalize our map in other ways that we will see further in this series of notebooks. By now, this is enough.</p>"
   ]
  },
  {
   "cell_type": "markdown",
   "id": "peripheral-jones",
   "metadata": {},
   "source": [
    "<img src='Assets/maps.png' width='550' height='550' style='margin-left: 550px;'>"
   ]
  },
  {
   "cell_type": "code",
   "execution_count": 3,
   "id": "sonic-problem",
   "metadata": {},
   "outputs": [],
   "source": [
    "# Initializing the folium map\n",
    "_map = folium.Map(location=[-0.784176, -60.084085], zoom_start=6)\n",
    "# Setting the type of map we want to have on background\n",
    "_map.setOptions('ROADMAP')"
   ]
  },
  {
   "cell_type": "markdown",
   "id": "natural-witness",
   "metadata": {},
   "source": [
    "<h2>Data Catalog</h2>\n",
    "\n",
    "<p>The Earth Engine API has its own data catalog and Google is doing a great job on providing it in an easy to use and free way. You can find all the data available for Earth Engine in this <a href=\"https://developers.google.com/earth-engine/datasets\">link</a>. In this series we will be working mainly with raw data, e.g. bands of satellite imagery, as our goal is to apply some Machine Learning and Deep Learning techniques using Remote Sensing data.\n",
    "\n",
    "In the EE's data catalog we can find imagery from Landsat series (1, 4, 5, 7 and 8), sentinel series (1, 2, 3 and 5P), MODIS (too many to put here), Planet labs SkySat and NAIP. Those are very precious data that we will be exploring in details set-by-set. It's very easy to acquire the data using EE, you just need to access the data catalog, search for the dataset you want to use, and in the page of this dataset there will be an Id similar to this: LANDSAT/LC08/C01/T1. Then, you just need to paste it into the ee.ImageCollection() function, that we will be seing in the folling cells.\n",
    "    \n",
    "Now we will be taking a closer look at Landsat imagery, more specificly at Landsat-8 imagery. In the <a href=\"https://developers.google.com/earth-engine/datasets/catalog/landsat-8\">Landsat-8 section</a> we find 3 options: Surface Reflectance, Top of Atmosphere and Raw Images. We will understand better each of these sections further, for now let's just say that there are raw images with a lot of noise which need some preprocessing, and top of atmosphere and surface reflectance are images after some preprocessing methods are applied. In this notebook, we will visualize the raw images that have the ID LANDSAT/LC08/C01/T1. This ID is from a ImageCollection, a class that its object contains many images and methods to filter and process those images.\n",
    "    \n",
    "In this catalog there are some Feature Collections also. We can find a lot of them with different purposes and we will be using some of them in this series. As an example we gonna use the <a href=\"https://developers.google.com/earth-engine/datasets/catalog/USDOS_LSIB_SIMPLE_2017\">Large Scale International Boundary Polygons, Simplified (LSIB)</a> FeatureCollection to filter images that cover only a country's boundaries. In the data catalog you can find the table schema to understand better how to use the FeatureCollection. Similar to ImageCollection, FeatureCollection is a class that its object has many features, and those features can be countries boundaries, states boundaries, U.S terrestrial and marine protected areas boundaries, global land ice measurements, and many more.\n",
    "    \n",
    "So what we gonna do in the next cells is load images from Landsat-8 that cover Brazil's territory. Those images will be a 1-year composite, i.e. we select an image collection from a 1-year time range and select the median value for each pixel, generating only one image. Now let's go to the code\n",
    "</p>\n",
    "\n"
   ]
  },
  {
   "cell_type": "markdown",
   "id": "every-advantage",
   "metadata": {},
   "source": [
    "<img src='Assets/ee_data_catalog.png' width='600' height='500' style='margin-left: 550px; border: 1px solid;'>"
   ]
  },
  {
   "cell_type": "markdown",
   "id": "bridal-ability",
   "metadata": {},
   "source": [
    "<h2>Let's Code</h2>"
   ]
  },
  {
   "cell_type": "markdown",
   "id": "eligible-assessment",
   "metadata": {},
   "source": [
    "<p>First, we have to select the FeatureCollection that contains boundaries from all countries. As said before, the ID of this feature collection can be found on the Earth Engine Data Catalog.\n",
    "    \n",
    "So, we use the ee.FeatureCollection constructor and the ID to get those boundaries</p>"
   ]
  },
  {
   "cell_type": "code",
   "execution_count": 4,
   "id": "whole-bench",
   "metadata": {},
   "outputs": [],
   "source": [
    "# Getting the Large Scale International Boundary Polygons FeatureCollection, i.e. getting the boundaries of all countries in the world \n",
    "countries = ee.FeatureCollection('USDOS/LSIB_SIMPLE/2017')"
   ]
  },
  {
   "cell_type": "markdown",
   "id": "coordinated-compilation",
   "metadata": {},
   "source": [
    "However, we just want to get Brazil's boundaries and the above cell returned to us boundaries from the whole world. Now what we have to do is use a filter to get what we want. An object of the FeatureCollection class has a method called filter, which receives a filter from the Filter class, and this filter filters based on the metadata of the FeatureCollection object. So we are using the ee.Filter.eq() function that filters to metadata equal to the given value (eq stands for equal). 'country_na' and 'Brazil' are atributes of the FeatureCollection table schema, 'country_na' stands for Country Name, and 'Brazil' stands for the name of the country that we want to get the boundaries, so for filtering we have to first select the way we want to access it, in this case by country name and then we have to select the country that we want. There are some other options in the way to access this data.\n",
    "\n",
    "Based on the LSIB's table schema, we have the following options to use as filter:\n",
    "\n",
    "<ul>\n",
    "    <li>Country Code\n",
    "        <ul>\n",
    "            <li>Using the string 'country_co' on the filter</li>\n",
    "            <li>You can access countries boundaries using their official code</li>\n",
    "            <li>ee.Filter.eq('country_co', 'BR')</li>\n",
    "        </ul>\n",
    "    </li>\n",
    "    <li>Country Name\n",
    "        <ul>\n",
    "            <li>Using the string 'country_na' on the filter</li>\n",
    "            <li>You can access countries boundaries using the name</li>\n",
    "            <li>ee.Filter.eq('country_na', 'Brazil')</li>\n",
    "        </ul>\n",
    "    </li>\n",
    "    <li>World Region\n",
    "        <ul>\n",
    "            <li>Using the string 'wld_rgn'</li>\n",
    "            <li>You can access boundaries of different continents</li>\n",
    "            <li>ee.Filter.eq('wld_rgn', 'South America')</li>\n",
    "        </ul>\n",
    "</ul>\n",
    "\n",
    "Some regions are too big or have too much polygons and load their data in an interactive map is not a good idea, if you try it will raise an error."
   ]
  },
  {
   "cell_type": "code",
   "execution_count": 5,
   "id": "broad-heading",
   "metadata": {},
   "outputs": [],
   "source": [
    "# Filtering to Brazil's boundaries\n",
    "bound_brazil = countries.filter(ee.Filter.eq('country_na', 'Brazil'))"
   ]
  },
  {
   "cell_type": "markdown",
   "id": "round-seller",
   "metadata": {},
   "source": [
    "Now that we have the boundaries that we want, we need to acquire the images that we want. There are two ways of doing it, the first is similar to the method we applied on the FeatureCollection which we use the ImageCollection.filter() function and then use a ee.Filter as argument to the function. In this case, as we want to filter by date, we are using a filter as ee.Filter.date(), and selecting the time range that we are interested, for example a timestamp of 1 year, from the first day of 2017 to its last day. As the function ee.Filter.bounds(bound_brazil) is not working in Python Library yet, for filtering by bounds we just have one option.\n",
    "\n",
    "The second way is to use functions from ImageCollection class that can make this process easier. So, instead of creating a filter and using it as argument to ee.Filter, we just call the functions .filterDate() and filterBounds(), that is a faster way to do the same thing."
   ]
  },
  {
   "cell_type": "code",
   "execution_count": 6,
   "id": "excellent-brick",
   "metadata": {},
   "outputs": [],
   "source": [
    "# Filtering landsat-8 iamgery by date and by location using the boundaries we selected\n",
    "dataset = ee.ImageCollection('LANDSAT/LC08/C01/T1').filter(ee.Filter.date('2017-01-01', '2017-12-31')).filterBounds(bound_brazil) \n",
    "# doesn't work in python yet .filter(ee.Filter.bounds(bound_brazil))"
   ]
  },
  {
   "cell_type": "code",
   "execution_count": 7,
   "id": "advisory-friendship",
   "metadata": {},
   "outputs": [],
   "source": [
    "dataset = ee.ImageCollection('LANDSAT/LC08/C01/T1').filterDate('2017-01-01', '2017-12-31').filterBounds(bound_brazil)"
   ]
  },
  {
   "cell_type": "markdown",
   "id": "parental-command",
   "metadata": {},
   "source": [
    "All right, we got the images we want, let's see how many images we have."
   ]
  },
  {
   "cell_type": "code",
   "execution_count": 8,
   "id": "analyzed-stopping",
   "metadata": {},
   "outputs": [
    {
     "data": {
      "text/plain": [
       "6115"
      ]
     },
     "execution_count": 8,
     "metadata": {},
     "output_type": "execute_result"
    }
   ],
   "source": [
    "dataset.size().getInfo()"
   ]
  },
  {
   "cell_type": "markdown",
   "id": "ranging-princess",
   "metadata": {},
   "source": [
    "Yeah, that's a lot. But relax, we're not going to download or process all those images, we will transform all of them in only 1 image and then show that image on a map. For this, we first have to select the bands that we want, but what are those bands and which one we should select?\n",
    "\n",
    "Sensors used on satellites can capture different light spectra, from visible spectrum to infrared. Each band or a group of bands can be used with different purpose, for example we can use the bands red, green and blue to get what is called the True Color image, that is the image as we see - the visible spectrum. Or we can use the Near Infrared and the Red bands to calculate the NDVI, as we saw in the previous notebook. So there are many use cases for each band and we will explore some of them in this path. However, in this notebook we will use the red, green and blue bands to create a True Color image. \n",
    "\n",
    "Each satellite has a different number of bands and they are organized differently, hence before starting working with any satellite we have to take a look on its bands. That said, let's take a look at Landsat-8's bands. It has 11 bands and one mask for quality assesment (QA) which provides some useful information about the state of each pixel. The bands are:\n",
    "\n",
    "<ul>\n",
    "    <li>Band 1 : Coastal Aerosol</li>\n",
    "    <li>Band 2 : Blue</li>\n",
    "    <li>Band 3 : Green</li>\n",
    "    <li>Band 4 : Red</li>\n",
    "    <li>Band 5 : Near infrared</li>\n",
    "    <li>Band 6 : Shortwave infrared 1</li>\n",
    "    <li>Band 7 : Shortwave infrared 2</li>\n",
    "    <li>Band 8 : Band 8 Panchromatic</li>\n",
    "    <li>Band 9 : Cirrus</li>\n",
    "    <li>Band 10: Thermal Infrared 1</li>\n",
    "    <li>Band 11: Thermal Infrared 2</li>\n",
    "    <li>BQA    : Quality Assesment bitmask</li>\n",
    "</ul>\n",
    "\n",
    "\n",
    "<img src='Assets/true_false_color.png' width='600' height='500' style='margin-left: 500px;'>\n",
    "\n",
    "\n",
    "\n",
    "Ok, ok, we already know what are bands and which one we have to select, but how to select them? An ImageCollection object has and select method that we can use to choose the bands we want, just using as argument a list of strings, each string being the band we want, for example Band 1: 'B1', Band 2: 'B2', Band Quality Assessment: 'BQA', etc."
   ]
  },
  {
   "cell_type": "code",
   "execution_count": 9,
   "id": "occupational-vinyl",
   "metadata": {},
   "outputs": [],
   "source": [
    "# Selecting the bands we are going to use\n",
    "true_color = dataset.select(['B4', 'B3', 'B2'])"
   ]
  },
  {
   "cell_type": "markdown",
   "id": "seasonal-lebanon",
   "metadata": {},
   "source": [
    "For visualizing the images we selected, we have to define some visualization parameters creating a dictionary and setting some values to it. With these parameters we can manipulate the visualization of the images and features, change their color, the range of the pixels we want, etc. For images, we must define the min and max parameters, the min is the minimum value of the image which will be mapped to 0 and max is the maximum value of the image which will be mapped to 255. Remember that we selected the Raw Images and there are two more options, surface reflectance and top of atmosphere? The minimum and maximum values of image's pixels vary between those types of images, and also vary between different satellites. In this case, for Landsat-8 raw imagery, the minimum value is 0 and the maximum is 3000.\n",
    "\n",
    "Other parameters are:\n",
    "\n",
    "<ul>\n",
    "    <li>bands : Comma-delimited list of three band names to be mapped to RGB</li>\n",
    "    <li>min : Value(s) to map to 0</li>\n",
    "    <li>max : Value(s) to map to 255</li>\n",
    "    <li>gain : Value(s) by which to multiply each pixel value</li>\n",
    "    <li>bias : Value(s) to add to each DN</li>\n",
    "    <li>gamma : Gamma correction factor(s)</li>\n",
    "    <li>palette : List of CSS-style color strings (single-band images only)</li>\n",
    "    <li>opacity : The opacity of the layer (0.0 is fully transparent and 1.0 is fully opaque)</li>\n",
    "</ul>\n",
    "\n",
    "In the above cell we are defining three differente visualization parameters. The firts one is for the image, so we just need to set the minimum and maximum pixel's values. The second, for the feature collection, and in this case we are going to see a cool difference that will be explained above, and we set the color red to this feature. And the last one, we set also a color, but using palette, to the boundaries. You can change the colors the way you want and play with them and the other paramenters. This is a good way to understand better the way each parameter works."
   ]
  },
  {
   "cell_type": "code",
   "execution_count": 10,
   "id": "varied-ranking",
   "metadata": {},
   "outputs": [],
   "source": [
    "# Defining the visualization parameters to the interactive map\n",
    "true_color_vis = {\n",
    "    'min' : 0.0,\n",
    "    'max' : 30000.0,\n",
    "}\n",
    "\n",
    "feature_collection_vis = {\n",
    "    'color' : 'red'\n",
    "}\n",
    "\n",
    "boundaries_vis = {\n",
    "    'palette' : '0000FF'\n",
    "}"
   ]
  },
  {
   "cell_type": "markdown",
   "id": "packed-natural",
   "metadata": {},
   "source": [
    "Let's remember what we have until now: the images, that we filtered by date and by location; the feature collection with the boundaries from the location we want, which is Brazil; the bands we need to use to generate a true color image; the parameters to define as we want to see each one of those things; the interactive map. All right, I think that's all, we just need to put everything together now. For this, we are going to add layers for our interactive map, each layer containing the data we want to visualize.\n",
    "\n",
    "In the first layer we are adding the images we selected. Actually we are using an ImageCollection as argument, but it is turned into a composite, using the median value for each pixel, of the whole ImageCollection. Simply as putting the object, the parameters and the name of the layer we want, we have this data added to our map.\n",
    "\n",
    "Second, we are adding the whole filtered FeatureCollection. As you will see in red executing the following cells, the FeatureCollection is not only the boundaries, it takes the whole territory of the region we selected, and adding the FeatureCollection in this way you can visualize it.\n",
    "\n",
    "Third, we are adding only the boundaries. For this, we have to use the function ee.Image().paint, to paint only the boundaries using the color we set."
   ]
  },
  {
   "cell_type": "code",
   "execution_count": 11,
   "id": "flexible-pizza",
   "metadata": {},
   "outputs": [],
   "source": [
    "# Adding the landsat-8' images layer\n",
    "_map.addLayer(true_color, true_color_vis, 'True Color')\n",
    "# Adding a layer to visualize the FeatureCollection\n",
    "_map.addLayer(bound_brazil, feature_collection_vis, 'FeatureCollection')\n",
    "# Adding a layer to visualize only the bondaries\n",
    "_map.addLayer(ee.Image().paint(bound_brazil, color=0, width=3), boundaries_vis, 'Brazil')"
   ]
  },
  {
   "cell_type": "markdown",
   "id": "other-expression",
   "metadata": {},
   "source": [
    "This is a simple line, but a really cool one.\n",
    "\n",
    "With this line we are able to use the map in fullscreen using the third button on the top left side of the map.\n",
    "\n",
    "<img src='Assets/zoom.png' width='50' height='100' style='margin-left: 250px; border: 1px solid;'>\n",
    "\n",
    "See the latitude and longitude of any point in the map just by clicking on it.\n",
    "\n",
    "<img src='Assets/latlog.png' width='250' height='100' style='margin-left: 150px; border: 1px solid;'>\n",
    "\n",
    "And, the coolest feature, we can control which layer we want to show using a button on the top right side of the map. You can play around with those features.\n",
    "\n",
    "<img src='Assets/layers.png' width='150' height='100' style='margin-left: 200px; border: 1px solid;'>"
   ]
  },
  {
   "cell_type": "code",
   "execution_count": 12,
   "id": "central-profit",
   "metadata": {},
   "outputs": [],
   "source": [
    "# Setting folium's map control with geehydro\n",
    "_map.setControlVisibility()"
   ]
  },
  {
   "cell_type": "markdown",
   "id": "multiple-gamma",
   "metadata": {},
   "source": [
    "And finally the map!!\n",
    "\n",
    "You can just run the cell and it will show our interactive map and you're free to play with it."
   ]
  },
  {
   "cell_type": "code",
   "execution_count": 13,
   "id": "moving-driver",
   "metadata": {},
   "outputs": [
    {
     "data": {
      "text/html": [
       "<div style=\"width:100%;\"><div style=\"position:relative;width:100%;height:0;padding-bottom:60%;\"><span style=\"color:#565656\">Make this Notebook Trusted to load map: File -> Trust Notebook</span><iframe src=\"about:blank\" style=\"position:absolute;width:100%;height:100%;left:0;top:0;border:none !important;\" data-html=%3C%21DOCTYPE%20html%3E%0A%3Chead%3E%20%20%20%20%0A%20%20%20%20%3Cmeta%20http-equiv%3D%22content-type%22%20content%3D%22text/html%3B%20charset%3DUTF-8%22%20/%3E%0A%20%20%20%20%0A%20%20%20%20%20%20%20%20%3Cscript%3E%0A%20%20%20%20%20%20%20%20%20%20%20%20L_NO_TOUCH%20%3D%20false%3B%0A%20%20%20%20%20%20%20%20%20%20%20%20L_DISABLE_3D%20%3D%20false%3B%0A%20%20%20%20%20%20%20%20%3C/script%3E%0A%20%20%20%20%0A%20%20%20%20%3Cstyle%3Ehtml%2C%20body%20%7Bwidth%3A%20100%25%3Bheight%3A%20100%25%3Bmargin%3A%200%3Bpadding%3A%200%3B%7D%3C/style%3E%0A%20%20%20%20%3Cstyle%3E%23map%20%7Bposition%3Aabsolute%3Btop%3A0%3Bbottom%3A0%3Bright%3A0%3Bleft%3A0%3B%7D%3C/style%3E%0A%20%20%20%20%3Cscript%20src%3D%22https%3A//cdn.jsdelivr.net/npm/leaflet%401.6.0/dist/leaflet.js%22%3E%3C/script%3E%0A%20%20%20%20%3Cscript%20src%3D%22https%3A//code.jquery.com/jquery-1.12.4.min.js%22%3E%3C/script%3E%0A%20%20%20%20%3Cscript%20src%3D%22https%3A//maxcdn.bootstrapcdn.com/bootstrap/3.2.0/js/bootstrap.min.js%22%3E%3C/script%3E%0A%20%20%20%20%3Cscript%20src%3D%22https%3A//cdnjs.cloudflare.com/ajax/libs/Leaflet.awesome-markers/2.0.2/leaflet.awesome-markers.js%22%3E%3C/script%3E%0A%20%20%20%20%3Clink%20rel%3D%22stylesheet%22%20href%3D%22https%3A//cdn.jsdelivr.net/npm/leaflet%401.6.0/dist/leaflet.css%22/%3E%0A%20%20%20%20%3Clink%20rel%3D%22stylesheet%22%20href%3D%22https%3A//maxcdn.bootstrapcdn.com/bootstrap/3.2.0/css/bootstrap.min.css%22/%3E%0A%20%20%20%20%3Clink%20rel%3D%22stylesheet%22%20href%3D%22https%3A//maxcdn.bootstrapcdn.com/bootstrap/3.2.0/css/bootstrap-theme.min.css%22/%3E%0A%20%20%20%20%3Clink%20rel%3D%22stylesheet%22%20href%3D%22https%3A//maxcdn.bootstrapcdn.com/font-awesome/4.6.3/css/font-awesome.min.css%22/%3E%0A%20%20%20%20%3Clink%20rel%3D%22stylesheet%22%20href%3D%22https%3A//cdnjs.cloudflare.com/ajax/libs/Leaflet.awesome-markers/2.0.2/leaflet.awesome-markers.css%22/%3E%0A%20%20%20%20%3Clink%20rel%3D%22stylesheet%22%20href%3D%22https%3A//cdn.jsdelivr.net/gh/python-visualization/folium/folium/templates/leaflet.awesome.rotate.min.css%22/%3E%0A%20%20%20%20%0A%20%20%20%20%20%20%20%20%20%20%20%20%3Cmeta%20name%3D%22viewport%22%20content%3D%22width%3Ddevice-width%2C%0A%20%20%20%20%20%20%20%20%20%20%20%20%20%20%20%20initial-scale%3D1.0%2C%20maximum-scale%3D1.0%2C%20user-scalable%3Dno%22%20/%3E%0A%20%20%20%20%20%20%20%20%20%20%20%20%3Cstyle%3E%0A%20%20%20%20%20%20%20%20%20%20%20%20%20%20%20%20%23map_426c2a55f444447aaceba44a4c3f1f5a%20%7B%0A%20%20%20%20%20%20%20%20%20%20%20%20%20%20%20%20%20%20%20%20position%3A%20relative%3B%0A%20%20%20%20%20%20%20%20%20%20%20%20%20%20%20%20%20%20%20%20width%3A%20100.0%25%3B%0A%20%20%20%20%20%20%20%20%20%20%20%20%20%20%20%20%20%20%20%20height%3A%20100.0%25%3B%0A%20%20%20%20%20%20%20%20%20%20%20%20%20%20%20%20%20%20%20%20left%3A%200.0%25%3B%0A%20%20%20%20%20%20%20%20%20%20%20%20%20%20%20%20%20%20%20%20top%3A%200.0%25%3B%0A%20%20%20%20%20%20%20%20%20%20%20%20%20%20%20%20%7D%0A%20%20%20%20%20%20%20%20%20%20%20%20%3C/style%3E%0A%20%20%20%20%20%20%20%20%0A%20%20%20%20%3Cscript%20src%3D%22https%3A//cdnjs.cloudflare.com/ajax/libs/leaflet.fullscreen/1.4.2/Control.FullScreen.min.js%22%3E%3C/script%3E%0A%20%20%20%20%3Clink%20rel%3D%22stylesheet%22%20href%3D%22https%3A//cdnjs.cloudflare.com/ajax/libs/leaflet.fullscreen/1.4.2/Control.FullScreen.min.css%22/%3E%0A%3C/head%3E%0A%3Cbody%3E%20%20%20%20%0A%20%20%20%20%0A%20%20%20%20%20%20%20%20%20%20%20%20%3Cdiv%20class%3D%22folium-map%22%20id%3D%22map_426c2a55f444447aaceba44a4c3f1f5a%22%20%3E%3C/div%3E%0A%20%20%20%20%20%20%20%20%0A%3C/body%3E%0A%3Cscript%3E%20%20%20%20%0A%20%20%20%20%0A%20%20%20%20%20%20%20%20%20%20%20%20var%20map_426c2a55f444447aaceba44a4c3f1f5a%20%3D%20L.map%28%0A%20%20%20%20%20%20%20%20%20%20%20%20%20%20%20%20%22map_426c2a55f444447aaceba44a4c3f1f5a%22%2C%0A%20%20%20%20%20%20%20%20%20%20%20%20%20%20%20%20%7B%0A%20%20%20%20%20%20%20%20%20%20%20%20%20%20%20%20%20%20%20%20center%3A%20%5B-0.784176%2C%20-60.084085%5D%2C%0A%20%20%20%20%20%20%20%20%20%20%20%20%20%20%20%20%20%20%20%20crs%3A%20L.CRS.EPSG3857%2C%0A%20%20%20%20%20%20%20%20%20%20%20%20%20%20%20%20%20%20%20%20zoom%3A%206%2C%0A%20%20%20%20%20%20%20%20%20%20%20%20%20%20%20%20%20%20%20%20zoomControl%3A%20true%2C%0A%20%20%20%20%20%20%20%20%20%20%20%20%20%20%20%20%20%20%20%20preferCanvas%3A%20false%2C%0A%20%20%20%20%20%20%20%20%20%20%20%20%20%20%20%20%7D%0A%20%20%20%20%20%20%20%20%20%20%20%20%29%3B%0A%0A%20%20%20%20%20%20%20%20%20%20%20%20%0A%0A%20%20%20%20%20%20%20%20%0A%20%20%20%20%0A%20%20%20%20%20%20%20%20%20%20%20%20var%20tile_layer_4b302a9088594779804d088194d768cc%20%3D%20L.tileLayer%28%0A%20%20%20%20%20%20%20%20%20%20%20%20%20%20%20%20%22https%3A//%7Bs%7D.tile.openstreetmap.org/%7Bz%7D/%7Bx%7D/%7By%7D.png%22%2C%0A%20%20%20%20%20%20%20%20%20%20%20%20%20%20%20%20%7B%22attribution%22%3A%20%22Data%20by%20%5Cu0026copy%3B%20%5Cu003ca%20href%3D%5C%22http%3A//openstreetmap.org%5C%22%5Cu003eOpenStreetMap%5Cu003c/a%5Cu003e%2C%20under%20%5Cu003ca%20href%3D%5C%22http%3A//www.openstreetmap.org/copyright%5C%22%5Cu003eODbL%5Cu003c/a%5Cu003e.%22%2C%20%22detectRetina%22%3A%20false%2C%20%22maxNativeZoom%22%3A%2018%2C%20%22maxZoom%22%3A%2018%2C%20%22minZoom%22%3A%200%2C%20%22noWrap%22%3A%20false%2C%20%22opacity%22%3A%201%2C%20%22subdomains%22%3A%20%22abc%22%2C%20%22tms%22%3A%20false%7D%0A%20%20%20%20%20%20%20%20%20%20%20%20%29.addTo%28map_426c2a55f444447aaceba44a4c3f1f5a%29%3B%0A%20%20%20%20%20%20%20%20%0A%20%20%20%20%0A%20%20%20%20%20%20%20%20%20%20%20%20var%20tile_layer_a78ec1342b6f4540a250ae9de9ca00cf%20%3D%20L.tileLayer%28%0A%20%20%20%20%20%20%20%20%20%20%20%20%20%20%20%20%22https%3A//mt1.google.com/vt/lyrs%3Dm%5Cu0026x%3D%7Bx%7D%5Cu0026y%3D%7By%7D%5Cu0026z%3D%7Bz%7D%22%2C%0A%20%20%20%20%20%20%20%20%20%20%20%20%20%20%20%20%7B%22attribution%22%3A%20%22Google%22%2C%20%22detectRetina%22%3A%20false%2C%20%22maxNativeZoom%22%3A%2018%2C%20%22maxZoom%22%3A%2018%2C%20%22minZoom%22%3A%200%2C%20%22noWrap%22%3A%20false%2C%20%22opacity%22%3A%201%2C%20%22subdomains%22%3A%20%22abc%22%2C%20%22tms%22%3A%20false%7D%0A%20%20%20%20%20%20%20%20%20%20%20%20%29.addTo%28map_426c2a55f444447aaceba44a4c3f1f5a%29%3B%0A%20%20%20%20%20%20%20%20%0A%20%20%20%20%0A%20%20%20%20%20%20%20%20%20%20%20%20var%20tile_layer_b8d4d1c61dab4f24874daa4f818f9544%20%3D%20L.tileLayer%28%0A%20%20%20%20%20%20%20%20%20%20%20%20%20%20%20%20%22https%3A//earthengine.googleapis.com/v1alpha/projects/earthengine-legacy/maps/310f03f0cfe14e7b9753fce9b506dcb3-237010c2bf23650c243d17056ab30398/tiles/%7Bz%7D/%7Bx%7D/%7By%7D%22%2C%0A%20%20%20%20%20%20%20%20%20%20%20%20%20%20%20%20%7B%22attribution%22%3A%20%22Google%20Earth%20Engine%22%2C%20%22detectRetina%22%3A%20false%2C%20%22maxNativeZoom%22%3A%2018%2C%20%22maxZoom%22%3A%2018%2C%20%22minZoom%22%3A%200%2C%20%22noWrap%22%3A%20false%2C%20%22opacity%22%3A%201%2C%20%22subdomains%22%3A%20%22abc%22%2C%20%22tms%22%3A%20false%7D%0A%20%20%20%20%20%20%20%20%20%20%20%20%29.addTo%28map_426c2a55f444447aaceba44a4c3f1f5a%29%3B%0A%20%20%20%20%20%20%20%20%0A%20%20%20%20%0A%20%20%20%20%20%20%20%20%20%20%20%20var%20tile_layer_dc32a1d42dd1421c9b2e04c8d6e2862f%20%3D%20L.tileLayer%28%0A%20%20%20%20%20%20%20%20%20%20%20%20%20%20%20%20%22https%3A//earthengine.googleapis.com/v1alpha/projects/earthengine-legacy/maps/8886615f021c2bdf7cd0d390fb0e8b5a-3c47a57812cd355bcc399ef4baaa9e90/tiles/%7Bz%7D/%7Bx%7D/%7By%7D%22%2C%0A%20%20%20%20%20%20%20%20%20%20%20%20%20%20%20%20%7B%22attribution%22%3A%20%22Google%20Earth%20Engine%22%2C%20%22detectRetina%22%3A%20false%2C%20%22maxNativeZoom%22%3A%2018%2C%20%22maxZoom%22%3A%2018%2C%20%22minZoom%22%3A%200%2C%20%22noWrap%22%3A%20false%2C%20%22opacity%22%3A%201%2C%20%22subdomains%22%3A%20%22abc%22%2C%20%22tms%22%3A%20false%7D%0A%20%20%20%20%20%20%20%20%20%20%20%20%29.addTo%28map_426c2a55f444447aaceba44a4c3f1f5a%29%3B%0A%20%20%20%20%20%20%20%20%0A%20%20%20%20%0A%20%20%20%20%20%20%20%20%20%20%20%20var%20tile_layer_5ea34fac2e7345699f0ad59009eae40c%20%3D%20L.tileLayer%28%0A%20%20%20%20%20%20%20%20%20%20%20%20%20%20%20%20%22https%3A//earthengine.googleapis.com/v1alpha/projects/earthengine-legacy/maps/5ef209149625ada73d65296e98eeb4b8-ec5b95c807cf5e4a67d5a016cd737c15/tiles/%7Bz%7D/%7Bx%7D/%7By%7D%22%2C%0A%20%20%20%20%20%20%20%20%20%20%20%20%20%20%20%20%7B%22attribution%22%3A%20%22Google%20Earth%20Engine%22%2C%20%22detectRetina%22%3A%20false%2C%20%22maxNativeZoom%22%3A%2018%2C%20%22maxZoom%22%3A%2018%2C%20%22minZoom%22%3A%200%2C%20%22noWrap%22%3A%20false%2C%20%22opacity%22%3A%201%2C%20%22subdomains%22%3A%20%22abc%22%2C%20%22tms%22%3A%20false%7D%0A%20%20%20%20%20%20%20%20%20%20%20%20%29.addTo%28map_426c2a55f444447aaceba44a4c3f1f5a%29%3B%0A%20%20%20%20%20%20%20%20%0A%20%20%20%20%0A%20%20%20%20%20%20%20%20%20%20%20%20var%20layer_control_b8e7097740104ed0a2485021fb2a1f49%20%3D%20%7B%0A%20%20%20%20%20%20%20%20%20%20%20%20%20%20%20%20base_layers%20%3A%20%7B%0A%20%20%20%20%20%20%20%20%20%20%20%20%20%20%20%20%20%20%20%20%22openstreetmap%22%20%3A%20tile_layer_4b302a9088594779804d088194d768cc%2C%0A%20%20%20%20%20%20%20%20%20%20%20%20%20%20%20%20%7D%2C%0A%20%20%20%20%20%20%20%20%20%20%20%20%20%20%20%20overlays%20%3A%20%20%7B%0A%20%20%20%20%20%20%20%20%20%20%20%20%20%20%20%20%20%20%20%20%22Google%20Maps%22%20%3A%20tile_layer_a78ec1342b6f4540a250ae9de9ca00cf%2C%0A%20%20%20%20%20%20%20%20%20%20%20%20%20%20%20%20%20%20%20%20%22True%20Color%22%20%3A%20tile_layer_b8d4d1c61dab4f24874daa4f818f9544%2C%0A%20%20%20%20%20%20%20%20%20%20%20%20%20%20%20%20%20%20%20%20%22FeatureCollection%22%20%3A%20tile_layer_dc32a1d42dd1421c9b2e04c8d6e2862f%2C%0A%20%20%20%20%20%20%20%20%20%20%20%20%20%20%20%20%20%20%20%20%22Brazil%22%20%3A%20tile_layer_5ea34fac2e7345699f0ad59009eae40c%2C%0A%20%20%20%20%20%20%20%20%20%20%20%20%20%20%20%20%7D%2C%0A%20%20%20%20%20%20%20%20%20%20%20%20%7D%3B%0A%20%20%20%20%20%20%20%20%20%20%20%20L.control.layers%28%0A%20%20%20%20%20%20%20%20%20%20%20%20%20%20%20%20layer_control_b8e7097740104ed0a2485021fb2a1f49.base_layers%2C%0A%20%20%20%20%20%20%20%20%20%20%20%20%20%20%20%20layer_control_b8e7097740104ed0a2485021fb2a1f49.overlays%2C%0A%20%20%20%20%20%20%20%20%20%20%20%20%20%20%20%20%7B%22autoZIndex%22%3A%20true%2C%20%22collapsed%22%3A%20true%2C%20%22position%22%3A%20%22topright%22%7D%0A%20%20%20%20%20%20%20%20%20%20%20%20%29.addTo%28map_426c2a55f444447aaceba44a4c3f1f5a%29%3B%0A%20%20%20%20%20%20%20%20%0A%20%20%20%20%0A%20%20%20%20%20%20%20%20%20%20%20%20L.control.fullscreen%28%0A%20%20%20%20%20%20%20%20%20%20%20%20%20%20%20%20%7B%22forceSeparateButton%22%3A%20false%2C%20%22position%22%3A%20%22topleft%22%2C%20%22title%22%3A%20%22Full%20Screen%22%2C%20%22titleCancel%22%3A%20%22Exit%20Full%20Screen%22%7D%0A%20%20%20%20%20%20%20%20%20%20%20%20%29.addTo%28map_426c2a55f444447aaceba44a4c3f1f5a%29%3B%0A%20%20%20%20%20%20%20%20%0A%20%20%20%20%0A%20%20%20%20%20%20%20%20%20%20%20%20%20%20%20%20var%20lat_lng_popup_c54fb37608694fdba171cac783a4a8b7%20%3D%20L.popup%28%29%3B%0A%20%20%20%20%20%20%20%20%20%20%20%20%20%20%20%20function%20latLngPop%28e%29%20%7B%0A%20%20%20%20%20%20%20%20%20%20%20%20%20%20%20%20%20%20%20%20lat_lng_popup_c54fb37608694fdba171cac783a4a8b7%0A%20%20%20%20%20%20%20%20%20%20%20%20%20%20%20%20%20%20%20%20%20%20%20%20.setLatLng%28e.latlng%29%0A%20%20%20%20%20%20%20%20%20%20%20%20%20%20%20%20%20%20%20%20%20%20%20%20.setContent%28%22Latitude%3A%20%22%20%2B%20e.latlng.lat.toFixed%284%29%20%2B%0A%20%20%20%20%20%20%20%20%20%20%20%20%20%20%20%20%20%20%20%20%20%20%20%20%20%20%20%20%20%20%20%20%20%20%20%20%22%3Cbr%3ELongitude%3A%20%22%20%2B%20e.latlng.lng.toFixed%284%29%29%0A%20%20%20%20%20%20%20%20%20%20%20%20%20%20%20%20%20%20%20%20%20%20%20%20.openOn%28map_426c2a55f444447aaceba44a4c3f1f5a%29%3B%0A%20%20%20%20%20%20%20%20%20%20%20%20%20%20%20%20%20%20%20%20%7D%0A%20%20%20%20%20%20%20%20%20%20%20%20%20%20%20%20map_426c2a55f444447aaceba44a4c3f1f5a.on%28%27click%27%2C%20latLngPop%29%3B%0A%20%20%20%20%20%20%20%20%20%20%20%20%0A%3C/script%3E onload=\"this.contentDocument.open();this.contentDocument.write(    decodeURIComponent(this.getAttribute('data-html')));this.contentDocument.close();\" allowfullscreen webkitallowfullscreen mozallowfullscreen></iframe></div></div>"
      ],
      "text/plain": [
       "<folium.folium.Map at 0x7f1d4834a2b0>"
      ]
     },
     "execution_count": 13,
     "metadata": {},
     "output_type": "execute_result"
    }
   ],
   "source": [
    "# Show the map\n",
    "_map"
   ]
  },
  {
   "cell_type": "code",
   "execution_count": null,
   "id": "designed-steps",
   "metadata": {},
   "outputs": [],
   "source": []
  }
 ],
 "metadata": {
  "kernelspec": {
   "display_name": "RSCourse",
   "language": "python",
   "name": "rscourse"
  },
  "language_info": {
   "codemirror_mode": {
    "name": "ipython",
    "version": 3
   },
   "file_extension": ".py",
   "mimetype": "text/x-python",
   "name": "python",
   "nbconvert_exporter": "python",
   "pygments_lexer": "ipython3",
   "version": "3.8.5"
  }
 },
 "nbformat": 4,
 "nbformat_minor": 5
}
